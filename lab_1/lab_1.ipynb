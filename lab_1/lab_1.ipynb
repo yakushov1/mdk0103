{
 "cells": [
  {
   "cell_type": "markdown",
   "id": "57b16b0c",
   "metadata": {},
   "source": [
    "### Лабораторная работа №1: Работа с структурами данных, циклами и  условными операторами в Python"
   ]
  },
  {
   "cell_type": "markdown",
   "id": "ad9a0c1d",
   "metadata": {},
   "source": [
    "#### Задание 1.\n",
    "\n",
    "Напишите программу, которая запрашивает у пользователя ввод числа и выводит на экран все числа от 1 до введенного числа включительно."
   ]
  },
  {
   "cell_type": "code",
   "execution_count": 2,
   "id": "56c7f02e",
   "metadata": {},
   "outputs": [
    {
     "name": "stdout",
     "output_type": "stream",
     "text": [
      "Вы ввели число 5\n",
      "1\n",
      "2\n",
      "3\n",
      "4\n",
      "5\n"
     ]
    }
   ],
   "source": [
    "n = int(input(\"Введите число: \"))\n",
    "print(f\"Вы ввели число {n}\")  \n",
    "for i in range(1, n + 1):     \n",
    "    print(i)"
   ]
  },
  {
   "cell_type": "markdown",
   "id": "0e7dae08",
   "metadata": {},
   "source": [
    "#### Задание 2.\n",
    "Напишите программу, которая запрашивает у пользователя ввод 2 чисел и  выводит на экран большее из них"
   ]
  },
  {
   "cell_type": "code",
   "execution_count": 3,
   "id": "8d724a4f",
   "metadata": {},
   "outputs": [
    {
     "name": "stdout",
     "output_type": "stream",
     "text": [
      "Вы ввели числа 3 и 2\n",
      "Большее число: 3\n"
     ]
    }
   ],
   "source": [
    "a, b = int(input(\"Введите первое число: \")), int(input(\"Введите второе число: \"))\n",
    "\n",
    "print(f'Вы ввели числа {a} и {b}')\n",
    "\n",
    "if a > b:\n",
    "    print(f\"Большее число: {a}\")\n",
    "if a < b:\n",
    "    print(f\"Большее число: {b}\")\n",
    "if a == b:\n",
    "    print(\"Числа равны\")\n"
   ]
  },
  {
   "cell_type": "markdown",
   "id": "ed2fd587",
   "metadata": {},
   "source": [
    "### Функции в Python и базовые алгоритмы"
   ]
  },
  {
   "cell_type": "markdown",
   "id": "6e3989d6",
   "metadata": {},
   "source": [
    "#### Задание 1: Написание простых функций\n",
    "Напишите функцию greet, которая принимает имя пользователя в качестве аргумента и выводит приветствие с этим именем"
   ]
  },
  {
   "cell_type": "code",
   "execution_count": 4,
   "id": "9e3c5ad8",
   "metadata": {},
   "outputs": [
    {
     "name": "stdout",
     "output_type": "stream",
     "text": [
      "Привет, Василий!\n"
     ]
    }
   ],
   "source": [
    "def greet(name: str) -> str:\n",
    "    \"\"\" Возвращает переданное имя\"\"\"\n",
    "    return f'Привет, {name}!'\n",
    "\n",
    "my_name = 'Василий'\n",
    "\n",
    "print(greet(my_name))"
   ]
  },
  {
   "cell_type": "markdown",
   "id": "815909f8",
   "metadata": {},
   "source": [
    "#### Задание 1Б\n",
    "Создайте функцию square, которая возвращает квадрат переданного ей числа."
   ]
  },
  {
   "cell_type": "code",
   "execution_count": 5,
   "id": "2935ec95",
   "metadata": {},
   "outputs": [
    {
     "name": "stdout",
     "output_type": "stream",
     "text": [
      "625\n"
     ]
    }
   ],
   "source": [
    "def square(number: int) -> int:\n",
    "    \"\"\" Возвращает квадрат переданного числа \"\"\"\n",
    "    return number ** 2\n",
    "\n",
    "print(square(25))"
   ]
  },
  {
   "cell_type": "markdown",
   "id": "2ea5858c",
   "metadata": {},
   "source": [
    "#### Задание 1В\n",
    "Реализуйте функцию max_of_two, которая принимает два числа в качестве аргументов и возвращает большее из них."
   ]
  },
  {
   "cell_type": "code",
   "execution_count": 6,
   "id": "6c00794d",
   "metadata": {},
   "outputs": [
    {
     "name": "stdout",
     "output_type": "stream",
     "text": [
      "Большее число: 40\n"
     ]
    }
   ],
   "source": [
    "def max_of_two(a: int, b: int)-> str:\n",
    "    \"\"\" Принимает 2 числа и возвращает большее из них \"\"\"\n",
    "    if a > b:\n",
    "        result = f\"Большее число: {a}\"\n",
    "    if a < b:\n",
    "        result = f\"Большее число: {b}\"\n",
    "    if a == b:\n",
    "        result = \"Числа равны\"\n",
    "    return result\n",
    "\n",
    "print(max_of_two(3, 40))"
   ]
  },
  {
   "cell_type": "markdown",
   "id": "69231754",
   "metadata": {},
   "source": [
    "#### Задание 2: Работа с аргументами функций\n",
    "Напишите функцию describe_person, принимающую имя и возраст человека, и печатающую эту информацию в читаемом виде. Сделайте возраст опциональным аргументом со значением по умолчанию 30."
   ]
  },
  {
   "cell_type": "code",
   "execution_count": null,
   "id": "dcb66dc7",
   "metadata": {},
   "outputs": [
    {
     "name": "stdout",
     "output_type": "stream",
     "text": [
      "Имя: Василий\n",
      "Возраст: 29\n"
     ]
    }
   ],
   "source": [
    "def describe_person(name: str, age:int=30) -> str:\n",
    "    return f\"Имя: {name}\\nВозраст: {age}\"\n",
    "\n",
    "print(describe_person('Василий', 29))\n"
   ]
  },
  {
   "cell_type": "markdown",
   "id": "4bfd726d",
   "metadata": {},
   "source": [
    "#### Задание 3: Использование функций для решения алгоритмических задач\n",
    "Напишите функцию is_prime, которая определяет, является ли число простым, и возвращает True или False соответственно."
   ]
  },
  {
   "cell_type": "code",
   "execution_count": 7,
   "id": "d3bb1860",
   "metadata": {},
   "outputs": [
    {
     "name": "stdout",
     "output_type": "stream",
     "text": [
      "True\n",
      "True\n",
      "False\n"
     ]
    }
   ],
   "source": [
    "def is_prime(n:int)->bool:\n",
    "    \"\"\" Возвращает true, если число простое. \n",
    "    Простое число - натуральное число больше 1, которое делится без остатка на 1 и на само себя \"\"\"\n",
    "    if n < 2:\n",
    "        return False\n",
    "    for i in range(2, n):\n",
    "        if n % i == 0:\n",
    "            return False\n",
    "    return True\n",
    "\n",
    "print(is_prime(2))\n",
    "print(is_prime(17))\n",
    "print(is_prime(20))"
   ]
  },
  {
   "cell_type": "markdown",
   "id": "7a313624",
   "metadata": {},
   "source": [
    "### Модули и пакеты: импорт, создание, использование"
   ]
  },
  {
   "cell_type": "markdown",
   "id": "f70e98ee",
   "metadata": {},
   "source": [
    "#### Задание 1: Импорт стандартных модулей\n",
    "1.1. Импортируйте модуль math и используйте функцию sqrt() для вычисления квадратного корня"
   ]
  },
  {
   "cell_type": "code",
   "execution_count": 8,
   "id": "efa004d0",
   "metadata": {},
   "outputs": [
    {
     "name": "stdout",
     "output_type": "stream",
     "text": [
      "5.0\n"
     ]
    }
   ],
   "source": [
    "from math import sqrt\n",
    "\n",
    "print(sqrt(25))"
   ]
  },
  {
   "cell_type": "markdown",
   "id": "ed649e00",
   "metadata": {},
   "source": [
    "1.2. Используйте модуль datetime для отображения текущей даты и времени"
   ]
  },
  {
   "cell_type": "code",
   "execution_count": 14,
   "id": "6ff05796",
   "metadata": {},
   "outputs": [
    {
     "name": "stdout",
     "output_type": "stream",
     "text": [
      "2025-10-17 14:25:18.483347\n"
     ]
    }
   ],
   "source": [
    "import datetime\n",
    "\n",
    "print(datetime.datetime.now())"
   ]
  },
  {
   "cell_type": "markdown",
   "id": "63f792bc",
   "metadata": {},
   "source": [
    "#### Задание 2: Создание и использование собственного модуля\n",
    "2.1. Создайте модуль my_module.py, который содержит минимум одну функцию. Например, функция может принимать два аргумента и\n",
    "возвращать их сумму.\n",
    "\n",
    "2.2. Импортируйте my_module в другой файл Python и вызовите функцию, определённую в модуле"
   ]
  },
  {
   "cell_type": "code",
   "execution_count": null,
   "id": "63fbcf5b",
   "metadata": {},
   "outputs": [
    {
     "name": "stdout",
     "output_type": "stream",
     "text": [
      "20\n"
     ]
    }
   ],
   "source": [
    "from my_module import sum_of_two\n",
    "\n",
    "print(sum_of_two(10, 10))"
   ]
  },
  {
   "cell_type": "markdown",
   "id": "e6c658b0",
   "metadata": {},
   "source": [
    "### Задание 3: Создание и использование пакетов\n",
    "3.1. Создайте пакет, содержащий несколько модулей. Каждый модуль должен выполнять определённую задачу (например, операции с числами, работа со строками и т.д.).\n",
    "\n",
    "3.2. Продемонстрируйте, как импортировать различные модули из вашего пакета в другой файл Python."
   ]
  },
  {
   "cell_type": "code",
   "execution_count": 17,
   "id": "87cc6cba",
   "metadata": {},
   "outputs": [
    {
     "name": "stdout",
     "output_type": "stream",
     "text": [
      "4\n",
      "Большее число: 20\n"
     ]
    }
   ],
   "source": [
    "from my_package import sum_of_two, max_of_two\n",
    "\n",
    "print(sum_of_two(2,2))\n",
    "print(max_of_two(10, 20))"
   ]
  },
  {
   "cell_type": "code",
   "execution_count": 19,
   "id": "cbcd36d7",
   "metadata": {},
   "outputs": [
    {
     "name": "stdout",
     "output_type": "stream",
     "text": [
      "акортС\n",
      "5\n"
     ]
    }
   ],
   "source": [
    "from my_package import reverse_string, count_words\n",
    "\n",
    "print(reverse_string('Строка'))\n",
    "print(count_words('Сколько слов в этом предложении?'))"
   ]
  }
 ],
 "metadata": {
  "kernelspec": {
   "display_name": "venv (3.13.6)",
   "language": "python",
   "name": "python3"
  },
  "language_info": {
   "codemirror_mode": {
    "name": "ipython",
    "version": 3
   },
   "file_extension": ".py",
   "mimetype": "text/x-python",
   "name": "python",
   "nbconvert_exporter": "python",
   "pygments_lexer": "ipython3",
   "version": "3.13.6"
  }
 },
 "nbformat": 4,
 "nbformat_minor": 5
}
